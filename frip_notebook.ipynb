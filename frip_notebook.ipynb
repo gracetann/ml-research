{
 "cells": [
  {
   "cell_type": "code",
   "execution_count": null,
   "metadata": {
    "colab": {
     "base_uri": "https://localhost:8080/"
    },
    "executionInfo": {
     "elapsed": 23971,
     "status": "ok",
     "timestamp": 1661483200681,
     "user": {
      "displayName": "Grace Tan",
      "userId": "02316857926882419700"
     },
     "user_tz": 420
    },
    "id": "VZ-1qIZu4f7Z",
    "outputId": "018caac1-824b-4088-d683-08b9a14acb08",
    "scrolled": true
   },
   "outputs": [],
   "source": [
    "import numpy as np\n",
    "import pandas as pd\n",
    "\n",
    "# read data from file\n",
    "data = pd.read_csv('Islander_data.csv')\n",
    "df = data.drop(['first_name', 'last_name'],axis=1)\n",
    "df = df[df.Drug != 'S'] # remove placebo from dataset\n",
    "print(df)"
   ]
  },
  {
   "cell_type": "markdown",
   "metadata": {
    "id": "qTfIPmn7VBE1"
   },
   "source": [
    "Preprocessing"
   ]
  },
  {
   "cell_type": "code",
   "execution_count": null,
   "metadata": {
    "id": "7zh3vp09-wQj"
   },
   "outputs": [],
   "source": [
    "df['Happy_Sad_group'].unique()\n",
    "df['Drug'].unique()\n",
    "\n",
    "from sklearn.preprocessing import OneHotEncoder\n",
    "from sklearn.compose import make_column_transformer\n",
    "\n",
    "transformer = make_column_transformer(\n",
    "    (OneHotEncoder(), ['Happy_Sad_group','Drug']),\n",
    "    remainder = 'passthrough')\n",
    "\n",
    "transformed = transformer.fit_transform(df)\n",
    "encoded_df = pd.DataFrame(transformed, columns=transformer.get_feature_names_out())\n",
    "encoded_df.head()"
   ]
  },
  {
   "cell_type": "code",
   "execution_count": null,
   "metadata": {
    "id": "UcuHj4O4JkOS"
   },
   "outputs": [],
   "source": [
    "scaled_df = encoded_df.copy()\n",
    "from sklearn.preprocessing import StandardScaler\n",
    "\n",
    "scaled_df.iloc[:, 8] = scaled_df.iloc[:, 8]/scaled_df.iloc[:, 6] * 100\n",
    "# scale selected columns by index (memory before, memory after, difference)\n",
    "scaled_df.iloc[:, 6:8] = StandardScaler().fit_transform(scaled_df.iloc[:, 6:8])\n",
    "\n",
    "# print(scaled_df.describe())"
   ]
  },
  {
   "cell_type": "code",
   "execution_count": null,
   "metadata": {
    "id": "38vnQvqvGOu8"
   },
   "outputs": [],
   "source": [
    "cleaned_df = scaled_df.drop(['remainder__Mem_Score_After'],axis=1)\n",
    "\n",
    "data_label = cleaned_df['remainder__Diff']\n",
    "\n",
    "cleaned_df = cleaned_df.drop(['remainder__Diff'],axis=1)\n",
    "#print(cleaned_df.head())\n",
    "#print(data_label.tolist())"
   ]
  },
  {
   "cell_type": "markdown",
   "metadata": {
    "id": "MVm1UnghU9Ca"
   },
   "source": [
    "K-Fold Cross Validation"
   ]
  },
  {
   "cell_type": "code",
   "execution_count": null,
   "metadata": {
    "colab": {
     "base_uri": "https://localhost:8080/"
    },
    "executionInfo": {
     "elapsed": 2223,
     "status": "ok",
     "timestamp": 1661483331667,
     "user": {
      "displayName": "Grace Tan",
      "userId": "02316857926882419700"
     },
     "user_tz": 420
    },
    "id": "n81owyQvCncD",
    "outputId": "0f721006-1434-413b-98fc-843192ae6add"
   },
   "outputs": [],
   "source": [
    "from sklearn import tree\n",
    "from sklearn.tree import DecisionTreeRegressor\n",
    "from sklearn.model_selection import KFold\n",
    "from sklearn.model_selection import cross_val_score\n",
    "from numpy import mean\n",
    "from numpy import absolute\n",
    "from numpy import sqrt\n",
    "\n",
    "X = cleaned_df\n",
    "y = data_label\n",
    "\n",
    "#define cross-validation method to use\n",
    "cv = KFold(n_splits=10, random_state=1, shuffle=True)\n",
    "\n",
    "parameters = {'max_depth': 4, 'max_features': None, 'min_samples_leaf': 4, 'splitter': 'random'}\n",
    "\n",
    "#build decision tree regression model\n",
    "model = DecisionTreeRegressor(**parameters)\n",
    "\n",
    "#use k-fold CV to evaluate model\n",
    "scores = cross_val_score(model, X, y, scoring='neg_root_mean_squared_error',\n",
    "                         cv=cv, n_jobs=-1)\n",
    "\n",
    "#view mean absolute error\n",
    "mean(absolute(scores))"
   ]
  },
  {
   "cell_type": "code",
   "execution_count": null,
   "metadata": {
    "colab": {
     "base_uri": "https://localhost:8080/"
    },
    "executionInfo": {
     "elapsed": 1490,
     "status": "ok",
     "timestamp": 1661483333155,
     "user": {
      "displayName": "Grace Tan",
      "userId": "02316857926882419700"
     },
     "user_tz": 420
    },
    "id": "u0JkWCbDDAI_",
    "outputId": "3123ffa9-3930-4d06-cdd1-a1b1f3f1341d"
   },
   "outputs": [],
   "source": [
    "from sklearn import datasets, ensemble\n",
    "import math\n",
    "from sklearn.metrics import mean_squared_error\n",
    "\n",
    "#build gradient boosting regression model\n",
    "params = {'learning_rate': 0.007, 'max_depth': 3, 'n_estimators': 400, 'subsample': 0.2}\n",
    "\n",
    "model = ensemble.GradientBoostingRegressor(**params)\n",
    "\n",
    "#use k-fold CV to evaluate model\n",
    "scores = cross_val_score(model, X, y, scoring='neg_root_mean_squared_error',\n",
    "                         cv=cv, n_jobs=-1)\n",
    "\n",
    "#view mean absolute error\n",
    "mean(absolute(scores))"
   ]
  },
  {
   "cell_type": "code",
   "execution_count": null,
   "metadata": {
    "colab": {
     "base_uri": "https://localhost:8080/"
    },
    "executionInfo": {
     "elapsed": 2,
     "status": "ok",
     "timestamp": 1661483333155,
     "user": {
      "displayName": "Grace Tan",
      "userId": "02316857926882419700"
     },
     "user_tz": 420
    },
    "id": "je6lRTEiBuLH",
    "outputId": "fdef1a10-2ffe-438c-95cd-a52a56837221"
   },
   "outputs": [],
   "source": [
    "from sklearn.linear_model import LinearRegression\n",
    "\n",
    "#build multiple linear regression model\n",
    "model = LinearRegression()\n",
    "\n",
    "#use k-fold CV to evaluate model\n",
    "scores = cross_val_score(model, X, y, scoring='neg_root_mean_squared_error',\n",
    "                         cv=cv, n_jobs=-1)\n",
    "\n",
    "mean(absolute(scores))"
   ]
  },
  {
   "cell_type": "code",
   "execution_count": null,
   "metadata": {
    "id": "i9c255FP0reU"
   },
   "outputs": [],
   "source": [
    "import seaborn as sns\n",
    "\n",
    "df = df.replace(to_replace=\"H\",value=0)\n",
    "df = df.replace(to_replace=\"S\",value=1)\n",
    "df = df.replace(to_replace=\"A\",value=0)\n",
    "df = df.replace(to_replace=\"T\",value=1)\n",
    "\n",
    "# print(df)\n",
    "\n",
    "# correlation matrix\n",
    "cormat = df.drop([\"Mem_Score_After\"], axis=1).corr()\n",
    "round(cormat,2)\n",
    "\n",
    "sns.heatmap(cormat, annot=True);"
   ]
  },
  {
   "cell_type": "code",
   "execution_count": null,
   "metadata": {
    "id": "KOW0VBJGLp_D"
   },
   "outputs": [],
   "source": [
    "from sklearn.model_selection import train_test_split\n",
    "\n",
    "# Xtrain,Xtest,Ytrain,Ytest = train_test_split(cleaned_df, data_label, test_size = 0.20, random_state = 42)\n",
    "Xtrain,Xtest,Ytrain,Ytest = train_test_split(cleaned_df, data_label, test_size = 0.20)"
   ]
  },
  {
   "cell_type": "code",
   "execution_count": null,
   "metadata": {
    "id": "DEhDyyZiVa2q"
   },
   "outputs": [],
   "source": [
    "from sklearn.model_selection import GridSearchCV\n",
    "from sklearn.ensemble import GradientBoostingRegressor\n",
    "\n",
    "GBR = GradientBoostingRegressor()\n",
    "\n",
    "parameters = {'learning_rate': np.arange(0.001, 0.01, 0.001),\n",
    "              'subsample'    : [0.9, 0.5, 0.2, 0.1],\n",
    "              'n_estimators' : np.arange(400, 1000, 200),\n",
    "              'max_depth'    : np.arange(2, 5)\n",
    "             }\n",
    "\n",
    "grid_GBR = GridSearchCV(estimator=GBR, param_grid = parameters, cv = 5, n_jobs=-1)\n",
    "grid_GBR.fit(Xtrain, Ytrain)  "
   ]
  },
  {
   "cell_type": "code",
   "execution_count": null,
   "metadata": {
    "colab": {
     "base_uri": "https://localhost:8080/",
     "height": 169
    },
    "executionInfo": {
     "elapsed": 387,
     "status": "error",
     "timestamp": 1661273025149,
     "user": {
      "displayName": "Grace Tan",
      "userId": "02316857926882419700"
     },
     "user_tz": 420
    },
    "id": "EhSEXrxUcLIR",
    "outputId": "471489b8-a1d5-452a-d2ff-59b4eabb99e8"
   },
   "outputs": [],
   "source": [
    "print(\"\\n The best parameters across ALL searched params:\\n\",grid_GBR.best_params_)"
   ]
  },
  {
   "cell_type": "code",
   "execution_count": null,
   "metadata": {
    "colab": {
     "base_uri": "https://localhost:8080/"
    },
    "executionInfo": {
     "elapsed": 2955,
     "status": "ok",
     "timestamp": 1661273041090,
     "user": {
      "displayName": "Grace Tan",
      "userId": "02316857926882419700"
     },
     "user_tz": 420
    },
    "id": "MYeg03UBdYAJ",
    "outputId": "2d756936-ea9e-4dca-e942-1fd10e7225a0"
   },
   "outputs": [],
   "source": [
    "from sklearn import datasets, ensemble\n",
    "\n",
    "#build gradient boosting regression model\n",
    "params = {'learning_rate': 0.007, 'max_depth': 3, 'n_estimators': 400, 'subsample': 0.2}\n",
    "\n",
    "model = ensemble.GradientBoostingRegressor(**params)\n",
    "\n",
    "#use k-fold CV to evaluate model\n",
    "scores = cross_val_score(model, X, y, scoring='neg_root_mean_squared_error',\n",
    "                         cv=cv, n_jobs=-1)\n",
    "\n",
    "#view mean absolute error\n",
    "mean(absolute(scores))"
   ]
  },
  {
   "cell_type": "code",
   "execution_count": null,
   "metadata": {
    "colab": {
     "base_uri": "https://localhost:8080/"
    },
    "executionInfo": {
     "elapsed": 1869,
     "status": "ok",
     "timestamp": 1659929633582,
     "user": {
      "displayName": "Grace Tan",
      "userId": "02316857926882419700"
     },
     "user_tz": 420
    },
    "id": "YfWIptyQeftU",
    "outputId": "ae31cfea-b9df-4842-a73a-2db5ad7f0d40"
   },
   "outputs": [],
   "source": [
    "DTR = DecisionTreeRegressor()\n",
    "\n",
    "parameters = {\"splitter\":[\"best\",\"random\"],\n",
    "             \"max_depth\" : np.arange(2,6),\n",
    "             \"min_samples_leaf\": np.arange(2,5),\n",
    "             \"max_features\":[\"auto\",\"log2\",\"sqrt\",None]}\n",
    "\n",
    "grid_DTR = GridSearchCV(estimator=DTR, param_grid = parameters, cv = 5, n_jobs=-1)\n",
    "grid_DTR.fit(Xtrain, Ytrain)  "
   ]
  },
  {
   "cell_type": "code",
   "execution_count": null,
   "metadata": {
    "colab": {
     "base_uri": "https://localhost:8080/"
    },
    "executionInfo": {
     "elapsed": 149,
     "status": "ok",
     "timestamp": 1659929652302,
     "user": {
      "displayName": "Grace Tan",
      "userId": "02316857926882419700"
     },
     "user_tz": 420
    },
    "id": "FfPXjP70hEmh",
    "outputId": "cf372c80-c27d-4fb0-c38d-66891ffa47e7"
   },
   "outputs": [],
   "source": [
    "print(\"\\n The best parameters across ALL searched params:\\n\",grid_DTR.best_params_)"
   ]
  },
  {
   "cell_type": "code",
   "execution_count": null,
   "metadata": {
    "colab": {
     "base_uri": "https://localhost:8080/"
    },
    "executionInfo": {
     "elapsed": 309,
     "status": "ok",
     "timestamp": 1661273047578,
     "user": {
      "displayName": "Grace Tan",
      "userId": "02316857926882419700"
     },
     "user_tz": 420
    },
    "id": "IRqNlqOahLWc",
    "outputId": "0d66d310-b496-4338-af98-d3298318629e"
   },
   "outputs": [],
   "source": [
    "X = cleaned_df\n",
    "y = data_label\n",
    "\n",
    "#define cross-validation method to use\n",
    "cv = KFold(n_splits=10, random_state=1, shuffle=True)\n",
    "\n",
    "parameters = {'max_depth': 4, 'max_features': None, 'min_samples_leaf': 4, 'splitter': 'random'}\n",
    "\n",
    "#build decision tree regression model\n",
    "model = DecisionTreeRegressor(**parameters)\n",
    "\n",
    "#use k-fold CV to evaluate model\n",
    "scores = cross_val_score(model, X, y, scoring='neg_root_mean_squared_error',\n",
    "                         cv=cv, n_jobs=-1)\n",
    "\n",
    "#view mean absolute error\n",
    "mean(absolute(scores))"
   ]
  },
  {
   "cell_type": "code",
   "execution_count": null,
   "metadata": {
    "colab": {
     "base_uri": "https://localhost:8080/"
    },
    "executionInfo": {
     "elapsed": 316,
     "status": "ok",
     "timestamp": 1661483370210,
     "user": {
      "displayName": "Grace Tan",
      "userId": "02316857926882419700"
     },
     "user_tz": 420
    },
    "id": "cP-4jPamEg4-",
    "outputId": "dfa50a7c-ea27-4c60-85f9-8ec0c28e251f"
   },
   "outputs": [],
   "source": [
    "import matplotlib.pyplot as plt\n",
    "from sklearn.inspection import permutation_importance\n",
    "from sklearn.metrics import mean_squared_error\n",
    "import math\n",
    "\n",
    "# decision tree\n",
    "regr_1 = DecisionTreeRegressor(**parameters)\n",
    "regr_1.fit(Xtrain, Ytrain)\n",
    "\n",
    "y_1 = regr_1.predict(Xtest)\n",
    "\n",
    "mrse = math.sqrt(mean_squared_error(Ytest, y_1))\n",
    "#print(y_1)\n",
    "print(\"decision tree MRSE: {:.4f}\".format(mrse)) \n",
    "\n",
    "# gradient boosting decision tree\n",
    "reg = ensemble.GradientBoostingRegressor(**params)\n",
    "reg.fit(Xtrain, Ytrain)\n",
    "y_2 = reg.predict(Xtest)\n",
    "\n",
    "mrse = math.sqrt(mean_squared_error(Ytest, y_2))\n",
    "#print(y_2)\n",
    "print(\"gradient booting MRSE: {:.4f}\".format(mrse))"
   ]
  },
  {
   "cell_type": "code",
   "execution_count": null,
   "metadata": {
    "colab": {
     "base_uri": "https://localhost:8080/",
     "height": 995
    },
    "executionInfo": {
     "elapsed": 1332,
     "status": "ok",
     "timestamp": 1661485026506,
     "user": {
      "displayName": "Grace Tan",
      "userId": "02316857926882419700"
     },
     "user_tz": 420
    },
    "id": "My7voaOeIFeC",
    "outputId": "74ab70e6-0cf0-41fb-c63a-b917395ba3dc"
   },
   "outputs": [],
   "source": [
    "print(Xtrain)\n",
    "\n",
    "fig, axs = plt.subplots(1, 3)\n",
    "axs[0].scatter(Xtrain[\"remainder__age\"], Ytrain, s=6)\n",
    "\n",
    "axs[0].set_title('Age')\n",
    "axs[2].scatter(Xtrain[\"remainder__Dosage\"], Ytrain, s=6)\n",
    "axs[2].set_title('Dosage')\n",
    "axs[1].scatter(Xtrain[\"remainder__Mem_Score_Before\"], Ytrain, s=6)\n",
    "axs[1].set_title('Memory Before')\n",
    "\n",
    "plt.savefig(\"djfs.png\",dpi=300)\n",
    "files.download(\"djfs.png\") "
   ]
  },
  {
   "cell_type": "code",
   "execution_count": null,
   "metadata": {
    "id": "hxVwQF9kaab-"
   },
   "outputs": [],
   "source": [
    "# plot figure comparing the data to the predicted values by the decistion tree and gradient boosting regressor\n",
    "plt.figure()\n",
    "x = np.arange(0, len(Ytest), 1, dtype=int)\n",
    "\n",
    "# plt.scatter(x, Ytest, s=20, c=\"red\", label=\"data\")\n",
    "plt.plot(x, Ytest, color =\"red\", label =\"Actual\", linewidth=1)\n",
    "plt.plot(x, y_1, color =\"cornflowerblue\", label=\"Predicted\", linewidth=1)\n",
    "\n",
    "plt.ylabel(\"Percent difference in memory score\")\n",
    "plt.title(\"Decision Tree\")\n",
    "plt.legend()\n",
    "#plt.show()\n",
    "\n",
    "plt.tight_layout()\n",
    "plt.savefig(\"decision_tree.png\",dpi=300)\n",
    "#files.download(\"decision_tree.png\") "
   ]
  },
  {
   "cell_type": "code",
   "execution_count": null,
   "metadata": {
    "id": "IfHdphcjryXf"
   },
   "outputs": [],
   "source": [
    "# plot figure comparing the data to the predicted values by the decistion tree and gradient boosting regressor\n",
    "plt.figure()\n",
    "x = np.arange(0, len(Ytest), 1, dtype=int)\n",
    "\n",
    "# plt.scatter(x, Ytest, s=20, c=\"red\", label=\"data\")\n",
    "plt.plot(x, Ytest, color =\"red\", label =\"Actual\", linewidth=1)\n",
    "plt.plot(x, y_2, color =\"green\", label=\"Predicted\", linewidth=1)\n",
    "\n",
    "plt.ylabel(\"Percent difference in memory score\")\n",
    "plt.title(\"Gradient Boosting\")\n",
    "plt.legend()\n",
    "# plt.show()\n",
    "\n",
    "plt.tight_layout()\n",
    "plt.savefig(\"gradient_boosting.png\",dpi=300)\n",
    "#files.download(\"gradient_boosting.png\") "
   ]
  },
  {
   "cell_type": "code",
   "execution_count": null,
   "metadata": {
    "id": "GkwJWFvpHLdJ"
   },
   "outputs": [],
   "source": [
    "linreg = LinearRegression().fit(Xtrain, Ytrain)\n",
    "y_5 = linreg.predict(Xtest)\n",
    "\n",
    "# plot figure comparing the data to the predicted values by the decistion tree and gradient boosting regressor\n",
    "plt.figure()\n",
    "x = np.arange(0, len(Ytest), 1, dtype=int)\n",
    "\n",
    "mrse = math.sqrt(mean_squared_error(Ytest, y_5))\n",
    "print(\"MRSE: {:.4f}\".format(mrse))\n",
    "\n",
    "# plt.scatter(x, Ytest, s=20, c=\"red\", label=\"data\")\n",
    "plt.plot(x, Ytest, color =\"red\", label =\"Actual\", linewidth=1)\n",
    "plt.plot(x, y_5, color =\"orange\", label=\"Predicted\", linewidth=1)\n",
    "\n",
    "plt.ylabel(\"Percent difference in memory score\")\n",
    "plt.title(\"Linear Regression\")\n",
    "plt.legend()\n",
    "#plt.show()\n",
    "\n",
    "plt.tight_layout()\n",
    "plt.savefig(\"lin_reg.png\",dpi=300)\n",
    "#files.download(\"lin_reg.png\") "
   ]
  },
  {
   "cell_type": "code",
   "execution_count": null,
   "metadata": {
    "id": "WSXcv3vfsKaS"
   },
   "outputs": [],
   "source": [
    "fig, (ax1, ax2, ax3) = plt.subplots(1, 3)\n",
    "ax1.plot(x, y)\n",
    "ax2.plot(x, -y)"
   ]
  },
  {
   "cell_type": "code",
   "execution_count": null,
   "metadata": {
    "colab": {
     "base_uri": "https://localhost:8080/",
     "height": 297
    },
    "executionInfo": {
     "elapsed": 847,
     "status": "ok",
     "timestamp": 1660453369625,
     "user": {
      "displayName": "Grace Tan",
      "userId": "02316857926882419700"
     },
     "user_tz": 420
    },
    "id": "8YvHvZTot93c",
    "outputId": "9bf14550-999e-4fc7-c3ed-f2d6c95cc952"
   },
   "outputs": [],
   "source": [
    "plt.figure()\n",
    "plt.plot(x, Ytest, color =\"red\", label =\"Actual\", linewidth=1)\n",
    "plt.plot(x, y_1, color =\"cornflowerblue\", label=\"Decision Tree\", linewidth=1)\n",
    "plt.plot(x, y_2, color =\"green\", label=\"Gradient Boosting\", linewidth=1)\n",
    "plt.plot(x, y_5, color =\"orange\", label=\"Linear Regression\", linewidth=1)\n",
    "\n",
    "plt.ylabel(\"Percent difference in memory score\")\n",
    "plt.legend()\n",
    "\n",
    "plt.tight_layout()\n",
    "plt.savefig(\"all_vs_actual.png\",dpi=300)\n",
    "#files.download(\"all_vs_actual.png\") "
   ]
  },
  {
   "cell_type": "markdown",
   "metadata": {
    "id": "8VnOHveEio20"
   },
   "source": [
    "Plots"
   ]
  },
  {
   "cell_type": "code",
   "execution_count": null,
   "metadata": {
    "id": "Hqx8tMmSNVId"
   },
   "outputs": [],
   "source": [
    "g = np.concatenate((np.full((1, 27), 'Decision Tree'), np.full((1, 27), 'Gradient Boosting'), np.full((1, 27), 'Linear Regression')), axis=1)\n",
    "g=g[0]"
   ]
  },
  {
   "cell_type": "code",
   "execution_count": null,
   "metadata": {
    "colab": {
     "base_uri": "https://localhost:8080/",
     "height": 365
    },
    "executionInfo": {
     "elapsed": 3456,
     "status": "ok",
     "timestamp": 1661273369595,
     "user": {
      "displayName": "Grace Tan",
      "userId": "02316857926882419700"
     },
     "user_tz": 420
    },
    "id": "1apyHgh0irX5",
    "outputId": "e7d778ad-a87d-4ce2-9045-42e45567316a"
   },
   "outputs": [],
   "source": [
    "import seaborn as sns\n",
    "\n",
    "DTR_data = pd.DataFrame({'Measured values': np.concatenate((Ytest, Ytest, Ytest), axis=0),\n",
    "                         'Predicted values': np.concatenate((y_1, y_2, y_5), axis=0),\n",
    "                         ' ': g\n",
    "                         })\n",
    "\n",
    "##print(DTR_data)\n",
    "sns.lmplot(x=\"Measured values\", y=\"Predicted values\", hue=' ', data=DTR_data)\n",
    "#plt.legend()\n",
    "\n",
    "\n",
    "# plt.tight_layout()\n",
    "sns.set(rc={'figure.figsize':(200,500)})\n",
    "plt.savefig(\"all_models.png\",dpi=300)\n",
    "files.download(\"all_models.png\") "
   ]
  },
  {
   "cell_type": "code",
   "execution_count": null,
   "metadata": {
    "colab": {
     "base_uri": "https://localhost:8080/",
     "height": 222
    },
    "executionInfo": {
     "elapsed": 1933,
     "status": "error",
     "timestamp": 1661272950711,
     "user": {
      "displayName": "Grace Tan",
      "userId": "02316857926882419700"
     },
     "user_tz": 420
    },
    "id": "3c3852kKlQjg",
    "outputId": "996b9f08-9489-4286-c6ca-c4b0884c1fbd"
   },
   "outputs": [],
   "source": [
    "import seaborn as sns\n",
    "\n",
    "plt.savefig(\"all_models.png\",dpi=300)\n",
    "files.download(\"all_models.png\") "
   ]
  }
 ],
 "metadata": {
  "colab": {
   "collapsed_sections": [],
   "name": "FRIP_notebook.ipynb",
   "provenance": []
  },
  "kernelspec": {
   "display_name": "Python 3 (ipykernel)",
   "language": "python",
   "name": "python3"
  },
  "language_info": {
   "codemirror_mode": {
    "name": "ipython",
    "version": 3
   },
   "file_extension": ".py",
   "mimetype": "text/x-python",
   "name": "python",
   "nbconvert_exporter": "python",
   "pygments_lexer": "ipython3",
   "version": "3.8.0"
  }
 },
 "nbformat": 4,
 "nbformat_minor": 4
}
